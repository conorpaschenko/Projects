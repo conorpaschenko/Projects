{
  "nbformat": 4,
  "nbformat_minor": 0,
  "metadata": {
    "colab": {
      "name": "Copy of AITextSummarizer.ipynb",
      "provenance": [],
      "collapsed_sections": [],
      "include_colab_link": true
    },
    "kernelspec": {
      "name": "python3",
      "display_name": "Python 3"
    },
    "language_info": {
      "name": "python"
    }
  },
  "cells": [
    {
      "cell_type": "markdown",
      "metadata": {
        "id": "view-in-github",
        "colab_type": "text"
      },
      "source": [
        "<a href=\"https://colab.research.google.com/github/conorpaschenko/Projects/blob/master/AITextSummarizer.ipynb\" target=\"_parent\"><img src=\"https://colab.research.google.com/assets/colab-badge.svg\" alt=\"Open In Colab\"/></a>"
      ]
    },
    {
      "cell_type": "markdown",
      "metadata": {
        "id": "Q9lts1_1sEA2"
      },
      "source": [
        ""
      ]
    },
    {
      "cell_type": "code",
      "metadata": {
        "id": "MWwB5qryR5so"
      },
      "source": [
        "text = \"\"\"\n",
        "In a far-off country there was once a little girl who was called Silver-hair, because her curly hair shone brightly. She was a sad romp, and so restless that she could not be kept quiet at home, but must needs run out and away, without leave.\n",
        "\n",
        "One day she started off into a wood to gather wild flowers, and into the fields to chase butterflies. She ran here and she ran there, and went so far, at last, that she found herself in a lonely place, where she saw a snug little house, in which three bears lived; but they were not then at home.\n",
        "\n",
        "The door was ajar, and Silver-hair pushed it open and found the place to be quite empty, so she made up her mind to go in boldly, and look all about the place, little thinking what sort of people lived there.\n",
        "\n",
        "Now the three bears had gone out to walk a little before this. They were the Big Bear, and the Middle-sized Bear, and the Little Bear; but they had left their porridge on the table to cool. So when Silver-hair came into the kitchen, she saw the three bowls of porridge. She tasted the largest bowl, which belonged to the Big Bear, and found it too cold; then she tasted the middle-sized bowl, which belonged to the Middle-sized Bear, and found it too hot; then she tasted the smallest bowl, which belonged to the Little Bear, and it was just right, and she ate it all.\n",
        "\n",
        "\n",
        "She went into the parlour, and there were three chairs. She tried the biggest chair, which belonged to the Big Bear, and found it too high; then she tried the middle-sized chair, which belonged to the Middle-sized Bear, and she found it too broad; then she tried the little chair, which belonged to the Little Bear, and found it just right, but she sat in it so hard that she broke it.\n",
        "\n",
        "Now Silver-hair was by this time very tired, and she went upstairs to the chamber, and there she found three beds. She tried the largest bed, which belonged to the Big Bear, and found it too soft; then she tried the middle-sized bed, which belonged to the Middle-sized Bear, and she found it too hard; then she tried the smallest bed, which belonged to the Little Bear, and found it just right, so she lay down upon it, and fell fast asleep.\n",
        "\n",
        "While Silver-hair was lying fast asleep, the three bears came home from their walk. They came into the kitchen, to get their porridge, but when the Big Bear went to his, he growled out:\n",
        "\n",
        "“SOMEBODY HAS BEEN TASTING MY PORRIDGE!”\n",
        "\n",
        "and the Middle-sized Bear looked into his bowl, and said:\n",
        "\n",
        "“Somebody Has Been Tasting My Porridge!”\n",
        "\n",
        "and the Little Bear piped:\n",
        "\n",
        "“Somebody has tasted my porridge and eaten it all up!”\n",
        "\n",
        "Then they went into the parlour, and the Big Bear growled:\n",
        "\n",
        "“SOMEBODY HAS BEEN SITTING IN MY CHAIR!”\n",
        "\n",
        "and the Middle-sized Bear said:\n",
        "\n",
        "“Somebody Has Been Sitting In My Chair!”\n",
        "\n",
        "and the Little Bear piped:\n",
        "\n",
        "“Somebody has been sitting in my chair, and has broken it all to pieces!”\n",
        "\n",
        "So they went upstairs into the chamber, and the Big Bear growled:\n",
        "\n",
        "“SOMEBODY HAS BEEN TUMBLING MY BED!”\n",
        "\n",
        "and the Middle-sized Bear said:\n",
        "\n",
        "“Somebody Has Been Tumbling My Bed!”\n",
        "\n",
        "and the little Bear piped:\n",
        "\n",
        "“Somebody has been tumbling my bed, and here she is!”\n",
        "\n",
        "At that, Silver-hair woke in a fright, and jumped out of the window and ran away as fast as her legs could carry her, and never went near the Three Bears’ snug little house again.\n",
        "\"\"\"\n",
        "\n",
        "text2 = \"\"\"\n",
        "In our era of life-changing innovation, there are major breakthroughs that could well come from the serious study of a phenomenon we too often mock:\n",
        " UFOs. The government has reversed its official position of publicly ignoring UAPs (unidentified aerial phenomenon, the new trendy name for UFOs)\n",
        " and is starting to tackle the subject openly. But within academia and industry, the topic is still too frequently dismissed with a chuckle accompanied by some trite remark about “extraterrestrials.”\n",
        " In February, for instance, one of the biggest innovators of this century, Elon Musk, was asked what he thought about the recent Pentagon acknowledgment that Navy pilots have seen objects flying in our airspace using advanced technology we can’t identify, let alone understand or explain or reproduce. Musk’s answer was, “Honestly, I think I would know if there were aliens,” and, honestly, this response could have come from any number of prominent scientists or industry figures.\n",
        "Musk’s nonanswer was revealing because it suggested that he wasn’t aware of — or interested in — basic unclassified facts about military sightings of UFOs, or that the government is looking into the possibility that they are made from advanced technology that our scientists can’t yet figure out.\n",
        "In June, a new task force championed by Sen. Marco Rubio, R-Fla., must submit an unclassified report on unidentified aerial phenomena to Congress. It comes as several erstwhile officials, including former Senate Majority Leader Harry Reid and two former CIA directors, have called for a more rigorous look at these sightings.\n",
        "The most famous example (the one Musk was asked about) occurred when Navy pilots reported a craft resembling a Tic Tac that was moving unlike anything seen in the U.S. arsenal: They said it “wasn’t behaving by the normal laws of physics.”\n",
        "The craft’s movements were, however, typical of both military and civilian UFO reports: Descending from 80,000 feet to 20,000 feet in an instant; stopping in midair and reversing direction without inertial effects; exceeding the speed of sound without generating a sonic boom; and submerging into the ocean. After The New York Times and The Washington Post reported on it in 2017 along with the military’s secret UFO tracking program, the Pentagon publicly acknowledged last year that the leaked videos in the stories were authentic.\n",
        "Now recently retired national security officials are speaking out. In the run-up to the task force’s report in June, John Ratcliffe, former director of national intelligence, told Fox News last month that there were “a lot more sightings than have been made public.” Similarly, James Woolsey, former director of the CIA, said on a podcast this month he was taking the subject seriously, as did a successor at the CIA, John Brennan, in December.\n",
        "The Pentagon hasn’t offered an official explanation for UAPs like the Tic Tac craft, calling them “unidentified.” Former officials don’t seem to be willing to utter the word “alien,” but it’s the implication of what they do say. Lue Elizondo, who ran the secret Pentagon UFO tracking unit, has publicly ruled out the theory that the Tic Tac craft came from the U.S. arsenal or from the arsenals of our adversaries, leaving only the theory that it came from “someone or something else.”\n",
        "According to Brennan, some of the phenomena we’re seeing “could involve some type of activity that some might say constitutes a different form of life.” U.S. Navy pilots who have actually seen the Tic Tac craft are even more direct, with one telling the Post it was “Something not from the Earth.”\n",
        "\n",
        "While it’s good that the government is finally taking UFOs more seriously, its job is primarily to figure out whether they represent a military threat. But these unidentified objects may also represent an opportunity to advance our science and technology significantly — if our other two pillars of innovation, academia and industry, are willing to catch up.\n",
        "\n",
        "Unfortunately, when scientists are asked about UFOs, they generally laugh off the subject. The well-known astrophysicist Neil deGrasse Tyson, for one, said he would only take the idea seriously when aliens send him a dinner invite.\n",
        "Why do leading scientists show such a profound lack of curiosity in a subject that might redefine not just their fields, but also all of science? It could lead to a new understanding of our place in the universe, and new advances in materials science, biology, quantum physics, cosmology and social sciences.\n",
        "\n",
        "Part of the problem likely stems from an academic version of the old IBM rule in industry that “No one ever gets fired for buying IBM.” Similarly, no professor ever gets fired for mocking UFOs. The case of Harvard Medical School’s Dr. John Mack, though, shows the dangers if you don’t.\n",
        "\n",
        "Thankfully, small cracks are appearing in academia’s wall of mockery. Avi Loeb, chief astronomer at Harvard University, was willing to say in his new book, “Extraterrestrial,” that he thinks that ‘Oumuamua, the first object we have spotted in the night sky whose origin is definitely from outside our solar system, was most likely a technological artifact of a long-vanished alien civilization.\n",
        "Most academics, though, still invoke some version of Musk’s nonargument: “If aliens were here, we would know!” But the government is saying that it does know: These craft exist. My purpose today is not to convince you of the evidence, however, but to encourage academics and industry leaders to move beyond their biases into an open-minded investigation to figure out who or what created them, and how they work.\n",
        "\n",
        "I’m not naïve enough to assume that academics will study UFOs just to further human knowledge. But to point out the obvious: In the long term, there could be multiple Nobel prizes, not to mention new laws of physics, for those who are willing to dive in and risk ridicule in the short term.\n",
        "Scientists in Europe who dismissed the idea of rocks falling out of the sky eventually opened their minds enough to discover meteorites — ending up with a more complex understanding of the universe. The results this time could lead to new kinds of transportation devices capable of submerging into the ocean and in the air, transporting cargo and passengers across the globe in minutes, as well as ferrying humans safely beyond planet Earth.\n",
        "Similar rewards await industry risk-takers as well, especially innovators in Silicon Valley who are interested in speculative topics such as the Singularity and the Simulation Hypothesis. To some extent, their apathy is the predictable spillover effect from the ivory tower: Venture capital firms aren’t going to invest in something that academics haven’t stamped as “viable” technology.\n",
        "\n",
        "But peer pressure may also be at work here, too. Businessman Joe Firmage, for instance, was once the toast of the valley only to resign so as not to hurt his company’s reputation after speaking of his interest in UFOs (and being skewered as “the Fox Mulder of Silicon Valley” in the press).\n",
        "\n",
        "Despite the risks, there are some encouraging signs. Recently, Prof. Garry Nolan of Stanford University and Jacques Vallee, a venture capitalist who worked with J. Allen Hynek — a part of the Air Force’s first UFO investigation group, Project Blue Book, from 1947-1969 — have teamed up to investigate samples of materials supposedly ejected at purported UFO landing sites.\n",
        "As a starting point, if the ratios of the metals’ specific isotopes don’t naturally occur on Earth, the chemical composition could open up new opportunities for high-performance craft materials on- and off-planet. Vallee (inspiration for the French scientist in director Steven Spielberg’s “Close Encounters of the Third Kind”) told me they would go through the academic peer-review processes, which might greatly advance respect for the subject.\n",
        "\n",
        "Where does this leave us?\n",
        "\n",
        "We will know more when the Pentagon’s report on unidentified aerial phenomena comes out in June, but now that the government is starting to take UFOs seriously, it’s high time that more academics and industry leaders step up to do the same.\n",
        "\"\"\"\n"
      ],
      "execution_count": null,
      "outputs": []
    },
    {
      "cell_type": "markdown",
      "metadata": {
        "id": "O910eSyBnX1t"
      },
      "source": [
        "# New Section"
      ]
    },
    {
      "cell_type": "code",
      "metadata": {
        "colab": {
          "base_uri": "https://localhost:8080/"
        },
        "id": "OF2lCzyPUIqQ",
        "outputId": "4cb3d2a2-b16b-47f1-84ef-bb8b997267ac"
      },
      "source": [
        "\"Extractive Graph/PageRank\"\n",
        "from gensim.summarization.summarizer import summarize\n",
        "from gensim.summarization import keywords\n",
        "\n",
        "import en_core_web_sm\n",
        " \n",
        "# basic\n",
        "summ = summarize(text2)\n",
        "print(\"Basic summary\")\n",
        "print(summ)\n",
        " \n",
        "# Summary (200 words)\n",
        "summ_words = summarize(text2, word_count = 200)\n",
        "print(\"Word count summary\")\n",
        "print(summ_words)"
      ],
      "execution_count": null,
      "outputs": [
        {
          "output_type": "stream",
          "text": [
            "Basic summary\n",
            "In February, for instance, one of the biggest innovators of this century, Elon Musk, was asked what he thought about the recent Pentagon acknowledgment that Navy pilots have seen objects flying in our airspace using advanced technology we can’t identify, let alone understand or explain or reproduce.\n",
            "Musk’s nonanswer was revealing because it suggested that he wasn’t aware of — or interested in — basic unclassified facts about military sightings of UFOs, or that the government is looking into the possibility that they are made from advanced technology that our scientists can’t yet figure out.\n",
            "The most famous example (the one Musk was asked about) occurred when Navy pilots reported a craft resembling a Tic Tac that was moving unlike anything seen in the U.S. arsenal: They said it “wasn’t behaving by the normal laws of physics.”\n",
            "In the run-up to the task force’s report in June, John Ratcliffe, former director of national intelligence, told Fox News last month that there were “a lot more sightings than have been made public.” Similarly, James Woolsey, former director of the CIA, said on a podcast this month he was taking the subject seriously, as did a successor at the CIA, John Brennan, in December.\n",
            "Lue Elizondo, who ran the secret Pentagon UFO tracking unit, has publicly ruled out the theory that the Tic Tac craft came from the U.S. arsenal or from the arsenals of our adversaries, leaving only the theory that it came from “someone or something else.”\n",
            "But these unidentified objects may also represent an opportunity to advance our science and technology significantly — if our other two pillars of innovation, academia and industry, are willing to catch up.\n",
            "Avi Loeb, chief astronomer at Harvard University, was willing to say in his new book, “Extraterrestrial,” that he thinks that ‘Oumuamua, the first object we have spotted in the night sky whose origin is definitely from outside our solar system, was most likely a technological artifact of a long-vanished alien civilization.\n",
            "We will know more when the Pentagon’s report on unidentified aerial phenomena comes out in June, but now that the government is starting to take UFOs seriously, it’s high time that more academics and industry leaders step up to do the same.\n",
            "Word count summary\n",
            "In February, for instance, one of the biggest innovators of this century, Elon Musk, was asked what he thought about the recent Pentagon acknowledgment that Navy pilots have seen objects flying in our airspace using advanced technology we can’t identify, let alone understand or explain or reproduce.\n",
            "Musk’s nonanswer was revealing because it suggested that he wasn’t aware of — or interested in — basic unclassified facts about military sightings of UFOs, or that the government is looking into the possibility that they are made from advanced technology that our scientists can’t yet figure out.\n",
            "In the run-up to the task force’s report in June, John Ratcliffe, former director of national intelligence, told Fox News last month that there were “a lot more sightings than have been made public.” Similarly, James Woolsey, former director of the CIA, said on a podcast this month he was taking the subject seriously, as did a successor at the CIA, John Brennan, in December.\n",
            "We will know more when the Pentagon’s report on unidentified aerial phenomena comes out in June, but now that the government is starting to take UFOs seriously, it’s high time that more academics and industry leaders step up to do the same.\n"
          ],
          "name": "stdout"
        }
      ]
    },
    {
      "cell_type": "code",
      "metadata": {
        "id": "alTBnuc4r1xH",
        "colab": {
          "base_uri": "https://localhost:8080/"
        },
        "outputId": "f1384b3c-ca9d-4bdf-a6d9-9a768fcba810"
      },
      "source": [
        "# !pip install transformers==2.8.0\n",
        "# !pip install torch==1.4.0\n",
        "\n",
        "\"Abstractive\"\n",
        "import torch\n",
        "import json \n",
        "import transformers\n",
        "from transformers import T5Tokenizer, T5ForConditionalGeneration, T5Config\n",
        "\n",
        "model = T5ForConditionalGeneration.from_pretrained('t5-small')\n",
        "tokenizer = T5Tokenizer.from_pretrained('t5-small')\n",
        "device = torch.device('cpu')\n",
        "\n",
        "\n",
        "text = text.strip().replace(\"\\n\",\"\")\n",
        "t5_prepared_Text = \"summarize: \"+ text\n",
        "tokenized_text = tokenizer.encode(t5_prepared_Text, return_tensors=\"pt\").to(device)\n",
        "\n",
        "\n",
        "\n",
        "ids = model.generate(tokenized_text,\n",
        "                                    num_beams=4,\n",
        "                                    no_repeat_ngram_size=2,\n",
        "                                    min_length=30,\n",
        "                                    max_length=300,\n",
        "                                    early_stopping=True)\n",
        "\n",
        "output = tokenizer.decode(ids[0], skip_special_tokens=True)\n",
        "\n",
        "print (output)"
      ],
      "execution_count": null,
      "outputs": [
        {
          "output_type": "stream",
          "text": [
            "Token indices sequence length is longer than the specified maximum sequence length for this model (853 > 512). Running this sequence through the model will result in indexing errors\n"
          ],
          "name": "stderr"
        },
        {
          "output_type": "stream",
          "text": [
            "silver-hair found herself in a lonely place, in which three bears lived. they were the Big Bear, and the Middle-sized Bear; but they had left their porridge on the table to cool. when she came into the kitchen, she saw the three bowls of porridge. she tasted the largest bowl and found it too hot; then she tried the smallest bowl, which belonged to the Little Bear.\n"
          ],
          "name": "stdout"
        }
      ]
    },
    {
      "cell_type": "code",
      "metadata": {
        "id": "0Epn4agvHBzV",
        "colab": {
          "base_uri": "https://localhost:8080/"
        },
        "outputId": "72d44050-0dff-419e-d568-446fa1ca9795"
      },
      "source": [
        "# Extactive TF-IDF\n",
        "import math\n",
        "import nltk\n",
        "from nltk import sent_tokenize, word_tokenize, PorterStemmer\n",
        "nltk.download('punkt')\n",
        "nltk.download('stopwords')\n",
        "from nltk.corpus import stopwords    \n",
        "\n",
        "def frequency_matrix(sentences):\n",
        "    matrix = {}\n",
        "    stop = set(stopwords.words(\"english\"))\n",
        "    ps = PorterStemmer()\n",
        "\n",
        "    for sent in sentences:\n",
        "        words = word_tokenize(sent)\n",
        "        table = {}\n",
        "        for w in words:\n",
        "            w = w.lower()\n",
        "            w = ps.stem(w)\n",
        "            if w in stop:\n",
        "                continue\n",
        "\n",
        "            if w in table:\n",
        "                table[w] += 1\n",
        "            else:\n",
        "                table[w] = 1\n",
        "\n",
        "        matrix[sent[:15]] = table\n",
        "\n",
        "    return matrix\n",
        "  \n",
        "\n",
        "def tf_matrix(freq):\n",
        "    matrix = {}\n",
        "\n",
        "    for sent, tab in freq.items():\n",
        "        table = {}\n",
        "\n",
        "        word_count = len(tab)\n",
        "        for w, c in tab.items():\n",
        "            table[w] = c / word_count\n",
        "\n",
        "        matrix[sent] = table\n",
        "\n",
        "    return matrix\n",
        "  \n",
        "\n",
        "def create_docs(freq):\n",
        "    table = {}\n",
        "\n",
        "    for sent, tab in freq.items():\n",
        "        for w, c in tab.items():\n",
        "            if w in table:\n",
        "                table[w] += 1\n",
        "            else:\n",
        "                table[w] = 1\n",
        "\n",
        "    return table\n",
        "\n",
        "def idf_matrix(freq, count, docs):\n",
        "    matrix = {}\n",
        "\n",
        "    for sent, tab in freq.items():\n",
        "        table = {}\n",
        "\n",
        "        for w in tab.keys():\n",
        "            table[w] = math.log10(docs / float(count[w]))\n",
        "\n",
        "        matrix[sent] = table\n",
        "\n",
        "    return matrix\n",
        "\n",
        "\n",
        "def tf_idf_matrix(tf, idf):\n",
        "    matrix = {}\n",
        "\n",
        "    for (sent1, tab1), (sent2, tab2) in zip(tf.items(), idf.items()):\n",
        "        table = {}\n",
        "        for (w1, v1), (w2, v2) in zip(tab1.items(), tab2.items()):  \n",
        "            table[w1] = float(v1 * v2)\n",
        "\n",
        "        matrix[sent1] = table\n",
        "\n",
        "    return matrix\n",
        "\n",
        "\n",
        "def score(tf_idf):\n",
        "    value = {}\n",
        "\n",
        "    for sent, tab in tf_idf.items():\n",
        "        count = len(tab)\n",
        "        total = 0\n",
        "        for w, s in tab.items():\n",
        "            total += s\n",
        "\n",
        "        value[sent] = total / count\n",
        "\n",
        "    return value\n",
        "\n",
        "\n",
        "def average(values):\n",
        "    sum = 0\n",
        "    for item in values:\n",
        "        sum += values[item]\n",
        "\n",
        "    avg = (sum / len(values))\n",
        "\n",
        "    return avg\n",
        "\n",
        "\n",
        "def summarize(sents, value, th):\n",
        "    count = 0\n",
        "    summary = ''\n",
        "\n",
        "    for sent in sents:\n",
        "      \n",
        "        if sent[:15] in value and value[sent[:15]] >= (th):\n",
        "            summary += \" \" + sent\n",
        "            count += 1\n",
        "\n",
        "    return summary\n",
        "\n",
        "sentences = sent_tokenize(text2)\n",
        "\n",
        "freq = frequency_matrix(sentences)\n",
        "\n",
        "\n",
        "tf = tf_matrix(freq)\n",
        "\n",
        "\n",
        "count = create_docs(freq)\n",
        "\n",
        "idf = idf_matrix(freq, count, len(sentences))\n",
        "\n",
        "tf_idf = tf_idf_matrix(tf, idf)\n",
        "\n",
        "scores = score(tf_idf)\n",
        "\n",
        "summary = summarize(sentences, scores, 1.2 * average(scores))\n",
        "print(summary)"
      ],
      "execution_count": null,
      "outputs": [
        {
          "output_type": "stream",
          "text": [
            "[nltk_data] Downloading package punkt to /root/nltk_data...\n",
            "[nltk_data]   Package punkt is already up-to-date!\n",
            "[nltk_data] Downloading package stopwords to /root/nltk_data...\n",
            "[nltk_data]   Package stopwords is already up-to-date!\n",
            " Now recently retired national security officials are speaking out. Unfortunately, when scientists are asked about UFOs, they generally laugh off the subject. The case of Harvard Medical School’s Dr. John Mack, though, shows the dangers if you don’t. Thankfully, small cracks are appearing in academia’s wall of mockery. I’m not naïve enough to assume that academics will study UFOs just to further human knowledge. But peer pressure may also be at work here, too. Despite the risks, there are some encouraging signs. Where does this leave us?\n"
          ],
          "name": "stdout"
        }
      ]
    },
    {
      "cell_type": "code",
      "metadata": {
        "id": "hAq-83rXGWPg",
        "colab": {
          "base_uri": "https://localhost:8080/"
        },
        "outputId": "7204091f-551c-4ee1-ce3a-68263414ef76"
      },
      "source": [
        "from rouge import Rouge \n",
        "rouge = Rouge()\n",
        "scoresPR = rouge.get_scores(\"In February, for instance, one of the biggest innovators of this century, Elon Musk, was asked what he thought about the recent Pentagon acknowledgment that Navy pilots have seen objects flying in our airspace using advanced technology we can’t identify, let alone understand or explain or reproduce. Musk’s nonanswer was revealing because it suggested that he wasn’t aware of — or interested in — basic unclassified facts about military sightings of UFOs, or that the government is looking into the possibility that they are made from advanced technology that our scientists can’t yet figure out. In the run-up to the task force’s report in June, John Ratcliffe, former director of national intelligence, told Fox News last month that there were “a lot more sightings than have been made public.” Similarly, James Woolsey, former director of the CIA, said on a podcast this month he was taking the subject seriously, as did a successor at the CIA, John Brennan, in December. We will know more when the Pentagon’s report on unidentified aerial phenomena comes out in June, but now that the government is starting to take UFOs seriously, it’s high time that more academics and industry leaders step up to do the same.\", text2)\n",
        "print(scoresPR)\n",
        "\n",
        "scoresAB = rouge.get_scores(\"the government has reversed its official position of publicly ignoring UAPs. but within academia and industry, the topic is too frequently dismissed with a chuckle accompanied by some trite remark about “extraterrestrials” in February, one of the biggest innovators of this century, Elon Musk, was asked what he thought about the recent Pentagon acknowledgment that navy pilots have seen objects flying in our airspace using advanced technology we can’t identify, let alone understand or explain or reproduce.\", text2)\n",
        "print(scoresAB)\n",
        "\n",
        "scoresTF = rouge.get_scores(\"Now recently retired national security officials are speaking out. Unfortunately, when scientists are asked about UFOs, they generally laugh off the subject. Why do leading scientists show such a profound lack of curiosity in a subject that might redefine not just their fields, but also all of science? The case of Harvard Medical School’s Dr. John Mack, though, shows the dangers if you don’t. Thankfully, small cracks are appearing in academia’s wall of mockery. I’m not naïve enough to assume that academics will study UFOs just to further human knowledge. But peer pressure may also be at work here, too. Despite the risks, there are some encouraging signs. Where does this leave us?\", text2)\n",
        "print(scoresTF)\n",
        "\n",
        "\n"
      ],
      "execution_count": null,
      "outputs": [
        {
          "output_type": "stream",
          "text": [
            "[{'rouge-1': {'f': 0.2643229143727706, 'p': 1.0, 'r': 0.1522880720180045}, 'rouge-2': {'f': 0.2620599716375455, 'p': 0.995049504950495, 'r': 0.15090090090090091}, 'rouge-l': {'f': 0.34306569058847036, 'p': 1.0, 'r': 0.20704845814977973}}]\n",
            "[{'rouge-1': {'f': 0.10638297769085057, 'p': 0.974025974025974, 'r': 0.056264066016504126}, 'rouge-2': {'f': 0.09517045352418001, 'p': 0.881578947368421, 'r': 0.0503003003003003}, 'rouge-l': {'f': 0.17866666499594672, 'p': 0.9710144927536232, 'r': 0.09838472834067548}}]\n",
            "[{'rouge-1': {'f': 0.1562932212424698, 'p': 1.0, 'r': 0.08477119279819954}, 'rouge-2': {'f': 0.14681440300120477, 'p': 0.9464285714285714, 'r': 0.07957957957957958}, 'rouge-l': {'f': 0.24710424493850724, 'p': 1.0, 'r': 0.14096916299559473}}]\n"
          ],
          "name": "stdout"
        }
      ]
    },
    {
      "cell_type": "code",
      "metadata": {
        "colab": {
          "base_uri": "https://localhost:8080/"
        },
        "id": "W17YpPRsAPWp",
        "outputId": "232b8832-efd8-4fcd-d699-6fd5b071923e"
      },
      "source": [
        "from nltk.translate.bleu_score import corpus_bleu\n",
        "references = [text]\n",
        "candidates = [\"One day she started off into a wood to gather wild flowers, and into the fields to chase butterflies. Now the three bears had gone out to walk a little before this. She went into the parlour, and there were three chairs. She tried the biggest chair, which belonged to the Big Bear, and found it too high; then she tried the middle-sized chair, which belonged to the Middle-sized Bear, and she found it too broad; then she tried the little chair, which belonged to the Little Bear, and found it just right, but she sat in it so hard that she broke it.\"]\n",
        "score = corpus_bleu(references, candidates)\n",
        "print(score)"
      ],
      "execution_count": null,
      "outputs": [
        {
          "output_type": "stream",
          "text": [
            "0.4986307493558981\n"
          ],
          "name": "stdout"
        },
        {
          "output_type": "stream",
          "text": [
            "/usr/local/lib/python3.7/dist-packages/nltk/translate/bleu_score.py:490: UserWarning: \n",
            "Corpus/Sentence contains 0 counts of 2-gram overlaps.\n",
            "BLEU scores might be undesirable; use SmoothingFunction().\n",
            "  warnings.warn(_msg)\n"
          ],
          "name": "stderr"
        }
      ]
    }
  ]
}
